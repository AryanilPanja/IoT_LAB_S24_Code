{
 "cells": [
  {
   "cell_type": "markdown",
   "id": "b3676fdd",
   "metadata": {},
   "source": [
    "# Install required Packages"
   ]
  },
  {
   "cell_type": "code",
   "execution_count": 9,
   "id": "83d3b998",
   "metadata": {},
   "outputs": [],
   "source": [
    "#pip install requests"
   ]
  },
  {
   "cell_type": "code",
   "execution_count": 10,
   "id": "cfd48219",
   "metadata": {},
   "outputs": [],
   "source": [
    "#pip install matplotlib"
   ]
  },
  {
   "cell_type": "code",
   "execution_count": 11,
   "id": "0c17e516",
   "metadata": {},
   "outputs": [],
   "source": [
    "#pip install pandas"
   ]
  },
  {
   "cell_type": "code",
   "execution_count": 12,
   "id": "54a45abd",
   "metadata": {},
   "outputs": [],
   "source": [
    "#pip install numpy"
   ]
  },
  {
   "cell_type": "code",
   "execution_count": 13,
   "id": "cbabec48",
   "metadata": {},
   "outputs": [],
   "source": [
    "#pip install progressbar"
   ]
  },
  {
   "cell_type": "markdown",
   "id": "059296fc",
   "metadata": {},
   "source": [
    "# Import Required packages"
   ]
  },
  {
   "cell_type": "code",
   "execution_count": 14,
   "id": "8c6722c2",
   "metadata": {},
   "outputs": [],
   "source": [
    "import os"
   ]
  },
  {
   "cell_type": "code",
   "execution_count": 15,
   "id": "801aa4fc",
   "metadata": {},
   "outputs": [],
   "source": [
    "import time"
   ]
  },
  {
   "cell_type": "code",
   "execution_count": 16,
   "id": "894c8447",
   "metadata": {},
   "outputs": [],
   "source": [
    "import math"
   ]
  },
  {
   "cell_type": "code",
   "execution_count": 17,
   "id": "3455d9c1",
   "metadata": {},
   "outputs": [],
   "source": [
    "import json"
   ]
  },
  {
   "cell_type": "code",
   "execution_count": 18,
   "id": "fa79cc0e",
   "metadata": {},
   "outputs": [],
   "source": [
    "import random"
   ]
  },
  {
   "cell_type": "code",
   "execution_count": 19,
   "id": "358ae0be",
   "metadata": {},
   "outputs": [],
   "source": [
    "import threading"
   ]
  },
  {
   "cell_type": "code",
   "execution_count": 20,
   "id": "b54e6e56",
   "metadata": {},
   "outputs": [],
   "source": [
    "import requests"
   ]
  },
  {
   "cell_type": "code",
   "execution_count": 21,
   "id": "06000590",
   "metadata": {},
   "outputs": [],
   "source": [
    "from IPython.display import clear_output"
   ]
  },
  {
   "cell_type": "markdown",
   "id": "c203dab6",
   "metadata": {},
   "source": [
    "# Default Running Constants"
   ]
  },
  {
   "cell_type": "code",
   "execution_count": 22,
   "id": "1579e39c",
   "metadata": {},
   "outputs": [],
   "source": [
    "data_frequency = 0.1 #3 seconds"
   ]
  },
  {
   "cell_type": "code",
   "execution_count": 23,
   "id": "b2adf519",
   "metadata": {},
   "outputs": [],
   "source": [
    "no_of_params = 3 #3 parameters-TimeStamp, Occupancy State, Distance"
   ]
  },
  {
   "cell_type": "markdown",
   "id": "fbcf8e64",
   "metadata": {},
   "source": [
    "# Create Resource Tree"
   ]
  },
  {
   "cell_type": "code",
   "execution_count": 24,
   "id": "9f866bb7",
   "metadata": {},
   "outputs": [
    {
     "name": "stdout",
     "output_type": "stream",
     "text": [
      "Return code : 409\n",
      "Return Content : Name already present in the parent collection.\n",
      "Return code : 409\n",
      "Return Content : Name already present in the parent collection.\n",
      "Return code : 409\n",
      "Return Content : Name already present in the parent collection.\n",
      "Return code : 409\n",
      "Return Content : Name already present in the parent collection.\n",
      "Return code : 201\n",
      "Return Content : {\n",
      "   \"m2m:cin\" : {\n",
      "      \"rn\" : \"cin_647150430\",\n",
      "      \"ty\" : 4,\n",
      "      \"ri\" : \"/in-cse/cin-647150430\",\n",
      "      \"pi\" : \"/in-cse/cnt-849025507\",\n",
      "      \"ct\" : \"20230524T150547\",\n",
      "      \"lt\" : \"20230524T150547\",\n",
      "      \"lbl\" : [ \"CIN-Label-1\", \"CIN-Label-2\" ],\n",
      "      \"st\" : 0,\n",
      "      \"cnf\" : \"text\",\n",
      "      \"cs\" : 38,\n",
      "      \"con\" : \"[Timestamp, Occupancy-State, Distance]\"\n",
      "   }\n",
      "}\n",
      "Return code : 201\n",
      "Return Content : {\n",
      "   \"m2m:cin\" : {\n",
      "      \"rn\" : \"cin_218899009\",\n",
      "      \"ty\" : 4,\n",
      "      \"ri\" : \"/in-cse/cin-218899009\",\n",
      "      \"pi\" : \"/in-cse/cnt-592974511\",\n",
      "      \"ct\" : \"20230524T150547\",\n",
      "      \"lt\" : \"20230524T150547\",\n",
      "      \"lbl\" : [ \"CIN-Label-1\", \"CIN-Label-2\" ],\n",
      "      \"st\" : 0,\n",
      "      \"cnf\" : \"text\",\n",
      "      \"cs\" : 1,\n",
      "      \"con\" : \"0\"\n",
      "   }\n",
      "}\n"
     ]
    }
   ],
   "source": [
    "%run -i \"../../python_codes/create_resource_tree.py\""
   ]
  },
  {
   "cell_type": "markdown",
   "id": "989c13a0",
   "metadata": {},
   "source": [
    "# Mock-Device"
   ]
  },
  {
   "cell_type": "markdown",
   "id": "d80041bc",
   "metadata": {},
   "source": [
    "## Subscribe DataWareHouse to OM2M"
   ]
  },
  {
   "cell_type": "code",
   "execution_count": 25,
   "id": "1109d453",
   "metadata": {},
   "outputs": [
    {
     "data": {
      "text/plain": [
       "'Error during the verification request'"
      ]
     },
     "execution_count": 25,
     "metadata": {},
     "output_type": "execute_result"
    }
   ],
   "source": [
    "url = 'http://127.0.0.1:5089/~/in-cse/in-name/AE-TEST/Node-1/Data'\n",
    "headers = {\n",
    "      'X-M2M-Origin': 'admin:admin',\n",
    "      'Content-Type': 'application/json;ty=23'\n",
    "    } \n",
    "payload = {\n",
    "        \"m2m:sub\": {\n",
    "            \"rn\": \"Sub-DW\",\n",
    "            \"nct\": 2,\n",
    "            \"nu\": \"http://localhost:5091/\"\n",
    "        }\n",
    "    }\n",
    "\n",
    "response = requests.request(\"POST\", url, headers=headers, json=payload)\n",
    "response.text"
   ]
  },
  {
   "cell_type": "code",
   "execution_count": 26,
   "id": "16056a25",
   "metadata": {},
   "outputs": [],
   "source": [
    "def post_random_data():\n",
    "    \n",
    "    _data_cin = [int(time.time()), random.randint(0, 1)]\n",
    "    \n",
    "    for count in range(no_of_params-2):\n",
    "        _data_cin.append(random.randint(1, 400))\n",
    "    \n",
    "    url = 'http://127.0.0.1:5089/~/in-cse/in-name/AE-TEST/Node-1/Data'\n",
    "    headers = {\n",
    "      'X-M2M-Origin': 'admin:admin',\n",
    "      'Content-Type': 'application/json;ty=4'\n",
    "    } \n",
    "    payload = {\n",
    "        \"m2m:cin\": {\n",
    "            \"con\": \"{}\".format(_data_cin),\n",
    "            \"lbl\": [\"Node-1\"],\n",
    "            \"cnf\": \"text\"\n",
    "        }\n",
    "    }\n",
    "\n",
    "    response = requests.request(\"POST\", url, headers=headers, json=payload)\n",
    "    print(response.text)\n",
    "    return response.status_code\n"
   ]
  },
  {
   "cell_type": "code",
   "execution_count": 27,
   "id": "778f3f8d",
   "metadata": {},
   "outputs": [],
   "source": [
    "def run():\n",
    "    publish_count = 0\n",
    "    while True:\n",
    "        status_code = post_random_data()\n",
    "        if status_code == 201:\n",
    "            publish_count += 1\n",
    "            print(\"Data publishing at \" + str(data_frequency) + \"-second frequency\")\n",
    "            print(\"Publish Successful\")\n",
    "            print(\"Number of data point published = \" + str(publish_count))\n",
    "        else:\n",
    "            print(\"Unable to publish data, process failed with a status code: \" + str(status_code))\n",
    "        time.sleep(data_frequency)\n",
    "        clear_output(wait=True)"
   ]
  },
  {
   "cell_type": "code",
   "execution_count": 28,
   "id": "64446144",
   "metadata": {},
   "outputs": [
    {
     "name": "stdout",
     "output_type": "stream",
     "text": [
      "{\r\n",
      "   \"m2m:cin\" : {\r\n",
      "      \"rn\" : \"cin_119229471\",\r\n",
      "      \"ty\" : 4,\r\n",
      "      \"ri\" : \"/in-cse/cin-119229471\",\r\n",
      "      \"pi\" : \"/in-cse/cnt-592974511\",\r\n",
      "      \"ct\" : \"20230524T150943\",\r\n",
      "      \"lt\" : \"20230524T150943\",\r\n",
      "      \"lbl\" : [ \"Node-1\" ],\r\n",
      "      \"st\" : 0,\r\n",
      "      \"cnf\" : \"text\",\r\n",
      "      \"cs\" : 19,\r\n",
      "      \"con\" : \"[1684921183, 1, 21]\"\r\n",
      "   }\r\n",
      "}\n",
      "Data publishing at 0.1-second frequency\n",
      "Publish Successful\n",
      "Number of data point published = 1850\n"
     ]
    },
    {
     "ename": "KeyboardInterrupt",
     "evalue": "",
     "output_type": "error",
     "traceback": [
      "\u001b[1;31m---------------------------------------------------------------------------\u001b[0m",
      "\u001b[1;31mKeyboardInterrupt\u001b[0m                         Traceback (most recent call last)",
      "Cell \u001b[1;32mIn[28], line 1\u001b[0m\n\u001b[1;32m----> 1\u001b[0m run()\n",
      "Cell \u001b[1;32mIn[27], line 12\u001b[0m, in \u001b[0;36mrun\u001b[1;34m()\u001b[0m\n\u001b[0;32m     10\u001b[0m \u001b[39melse\u001b[39;00m:\n\u001b[0;32m     11\u001b[0m     \u001b[39mprint\u001b[39m(\u001b[39m\"\u001b[39m\u001b[39mUnable to publish data, process failed with a status code: \u001b[39m\u001b[39m\"\u001b[39m \u001b[39m+\u001b[39m \u001b[39mstr\u001b[39m(status_code))\n\u001b[1;32m---> 12\u001b[0m time\u001b[39m.\u001b[39;49msleep(data_frequency)\n\u001b[0;32m     13\u001b[0m clear_output(wait\u001b[39m=\u001b[39m\u001b[39mTrue\u001b[39;00m)\n",
      "\u001b[1;31mKeyboardInterrupt\u001b[0m: "
     ]
    }
   ],
   "source": [
    "run()"
   ]
  }
 ],
 "metadata": {
  "kernelspec": {
   "display_name": "Python 3 (ipykernel)",
   "language": "python",
   "name": "python3"
  },
  "language_info": {
   "codemirror_mode": {
    "name": "ipython",
    "version": 3
   },
   "file_extension": ".py",
   "mimetype": "text/x-python",
   "name": "python",
   "nbconvert_exporter": "python",
   "pygments_lexer": "ipython3",
   "version": "3.9.5"
  }
 },
 "nbformat": 4,
 "nbformat_minor": 5
}
